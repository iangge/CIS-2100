{
  "nbformat": 4,
  "nbformat_minor": 0,
  "metadata": {
    "kernelspec": {
      "display_name": "Python 3",
      "language": "python",
      "name": "python3"
    },
    "language_info": {
      "codemirror_mode": {
        "name": "ipython",
        "version": 3
      },
      "file_extension": ".py",
      "mimetype": "text/x-python",
      "name": "python",
      "nbconvert_exporter": "python",
      "pygments_lexer": "ipython3",
      "version": "3.6.5"
    },
    "colab": {
      "provenance": []
    }
  },
  "cells": [
    {
      "cell_type": "markdown",
      "metadata": {
        "id": "MlAYoEd-eTHh"
      },
      "source": [
        "# CIS 2100 - Programming Foundation for Business Analytics\n",
        "# Dr. Marjan Orang\n",
        "# Assignment 2: Functions"
      ]
    },
    {
      "cell_type": "markdown",
      "metadata": {
        "id": "iTfA5ilHeTHs"
      },
      "source": [
        "1. Write a function that produces a greeting for the names passed to it as an argument."
      ]
    },
    {
      "cell_type": "code",
      "metadata": {
        "id": "lmKtO4S2eTHv",
        "colab": {
          "base_uri": "https://localhost:8080/"
        },
        "outputId": "0d34a788-e687-4e47-9e0f-f486048d94a6"
      },
      "source": [
        "def greeting(name):\n",
        "  print(\"Hello, \" + name + \"!\")\n",
        "\n",
        "greeting(\"Ian\")"
      ],
      "execution_count": null,
      "outputs": [
        {
          "output_type": "stream",
          "name": "stdout",
          "text": [
            "Hello, Ian!\n"
          ]
        }
      ]
    },
    {
      "cell_type": "markdown",
      "metadata": {
        "id": "vus89v4veTHx"
      },
      "source": [
        "2. Write a function that accepts a time duration as 3 arguments: hours, minutes, and seconds and calculates the total numbers of seconds."
      ]
    },
    {
      "cell_type": "code",
      "metadata": {
        "id": "hi6XILgBeTHy"
      },
      "source": [
        "def calculate_seconds(hours, minutes, seconds):\n",
        "  converted_hours = hours * 3600 # 3600 seconds in an hour\n",
        "  converted_minutes = minutes * 60 # 60 seconds in a minute\n",
        "  total_seconds = converted_hours + converted_minutes + seconds\n",
        "  print(str(total_seconds) + \" seconds\")"
      ],
      "execution_count": null,
      "outputs": []
    },
    {
      "cell_type": "code",
      "source": [
        "calculate_seconds(1, 20, 34)"
      ],
      "metadata": {
        "colab": {
          "base_uri": "https://localhost:8080/"
        },
        "id": "0nRyl6EoiDkt",
        "outputId": "03519406-76bb-4d1a-d89d-61486aef3ed5"
      },
      "execution_count": null,
      "outputs": [
        {
          "output_type": "stream",
          "name": "stdout",
          "text": [
            "4834 seconds\n"
          ]
        }
      ]
    },
    {
      "cell_type": "markdown",
      "metadata": {
        "id": "2zJ1vsRCeTHz"
      },
      "source": [
        "3. Write a function named right_justify that takes a string named s as a parameter\n",
        "and prints the string with enough leading spaces so that the last letter of the string is in column 70\n",
        "of the display.<br>\n",
        "Hint: Use string concatenation and repetition. Also, Python provides a built-in function called len\n",
        "that returns the length of a string, so the value of len('monty') is 5."
      ]
    },
    {
      "cell_type": "code",
      "metadata": {
        "id": "JFhFjuegeTHz"
      },
      "source": [
        "def right_justify(s):\n",
        "    print(' ' * (70 - len(s)) + s)"
      ],
      "execution_count": null,
      "outputs": []
    },
    {
      "cell_type": "code",
      "source": [
        "right_justify(\"Hello, Ian.\")"
      ],
      "metadata": {
        "colab": {
          "base_uri": "https://localhost:8080/"
        },
        "id": "p7GNmG8Ii0Vs",
        "outputId": "e44bc8a9-f4c5-49ee-8f1c-e8ac7e5e7d8a"
      },
      "execution_count": null,
      "outputs": [
        {
          "output_type": "stream",
          "name": "stdout",
          "text": [
            "                                                           Hello, Ian.\n"
          ]
        }
      ]
    },
    {
      "cell_type": "markdown",
      "metadata": {
        "id": "dXcT4Cs4eTH0"
      },
      "source": [
        "4. A function object is a value you can assign to a variable or pass as an argument. For\n",
        "example, do_twice is a function that takes a function object as an argument and calls it twice:"
      ]
    },
    {
      "cell_type": "code",
      "metadata": {
        "id": "Paw3iAxveTH1"
      },
      "source": [
        "def do_twice(f):\n",
        "    f()\n",
        "    f()"
      ],
      "execution_count": null,
      "outputs": []
    },
    {
      "cell_type": "markdown",
      "metadata": {
        "id": "w9OfDlXMeTH3"
      },
      "source": [
        "Here’s an example that uses do_twice to call a function named print_spam twice."
      ]
    },
    {
      "cell_type": "code",
      "metadata": {
        "id": "esjZLr9ceTH4",
        "outputId": "0cb0174e-beb3-4b51-8f49-c340601b008d",
        "colab": {
          "base_uri": "https://localhost:8080/"
        }
      },
      "source": [
        "def print_spam():\n",
        "    print('spam')\n",
        "do_twice(print_spam)"
      ],
      "execution_count": null,
      "outputs": [
        {
          "output_type": "stream",
          "name": "stdout",
          "text": [
            "spam\n",
            "spam\n"
          ]
        }
      ]
    },
    {
      "cell_type": "markdown",
      "metadata": {
        "id": "nKvs-ddDeTH6"
      },
      "source": [
        "4.1. Modify do_twice so that it takes two arguments, a function object and a value, and calls the\n",
        "function twice, passing the value as an argument."
      ]
    },
    {
      "cell_type": "code",
      "metadata": {
        "id": "SnA2du-aeTH6",
        "colab": {
          "base_uri": "https://localhost:8080/"
        },
        "outputId": "cc8b9250-c639-4eb2-aede-5f0183278cdb"
      },
      "source": [
        "def do_twice(f, value):\n",
        "  f(value)\n",
        "  f(value)\n",
        "\n",
        "do_twice(print, 'spam')"
      ],
      "execution_count": null,
      "outputs": [
        {
          "output_type": "stream",
          "name": "stdout",
          "text": [
            "spam\n",
            "spam\n"
          ]
        }
      ]
    },
    {
      "cell_type": "markdown",
      "metadata": {
        "id": "Qkdfc7EAeTH7"
      },
      "source": [
        "4.2. Below is print_twice that you have seen before. You dont need to change it. Run it and proceed to 4.3."
      ]
    },
    {
      "cell_type": "code",
      "metadata": {
        "id": "Nh6ylRP5eTH7"
      },
      "source": [
        "def print_twice(bruce):\n",
        "    print(bruce)\n",
        "    print(bruce)"
      ],
      "execution_count": null,
      "outputs": []
    },
    {
      "cell_type": "markdown",
      "metadata": {
        "id": "AcmziMlYeTH8"
      },
      "source": [
        "4.3. Use the modified version of do_twice to call print_twice twice, passing 'spam' as an\n",
        "argument."
      ]
    },
    {
      "cell_type": "code",
      "metadata": {
        "id": "8i0mUsMueTH9",
        "colab": {
          "base_uri": "https://localhost:8080/"
        },
        "outputId": "7a521a17-b4b0-45a9-ef5c-411bf98233b5"
      },
      "source": [
        "do_twice(print_twice, 'spam')"
      ],
      "execution_count": null,
      "outputs": [
        {
          "output_type": "stream",
          "name": "stdout",
          "text": [
            "spam\n",
            "spam\n",
            "spam\n",
            "spam\n"
          ]
        }
      ]
    },
    {
      "cell_type": "markdown",
      "metadata": {
        "id": "G_AOHJe3eTH-"
      },
      "source": [
        "4.4. Define a new function called do_four that takes a function object and a value and calls the\n",
        "function four times, passing the value as a parameter. There should be only two statements in\n",
        "the body of this function, not four."
      ]
    },
    {
      "cell_type": "code",
      "metadata": {
        "id": "G8plioeLeTH-"
      },
      "source": [
        "def do_four(f, value):\n",
        "  do_twice(f, value)\n",
        "  do_twice(f, value)"
      ],
      "execution_count": null,
      "outputs": []
    },
    {
      "cell_type": "code",
      "source": [
        "do_four(print, 'spam')"
      ],
      "metadata": {
        "colab": {
          "base_uri": "https://localhost:8080/"
        },
        "id": "Ryjp2ZmMkmfV",
        "outputId": "c59baa4e-3998-4f11-bcc2-4d43151433b3"
      },
      "execution_count": null,
      "outputs": [
        {
          "output_type": "stream",
          "name": "stdout",
          "text": [
            "spam\n",
            "spam\n",
            "spam\n",
            "spam\n"
          ]
        }
      ]
    },
    {
      "cell_type": "markdown",
      "metadata": {
        "id": "8SXJyemVeTH_"
      },
      "source": [
        "5. Write a function that draws a grid like the following:"
      ]
    },
    {
      "cell_type": "code",
      "source": [
        "def grid():\n",
        "  print(\"+ - - - - +\")\n",
        "  print(\"|         |\")\n",
        "  print(\"|         |\")\n",
        "  print(\"|         |\")\n",
        "  print(\"|         |\")\n",
        "  print(\"+ - - - - +\")\n",
        "\n",
        "grid()\n",
        "grid()"
      ],
      "metadata": {
        "colab": {
          "base_uri": "https://localhost:8080/"
        },
        "id": "hik87t-tkK8i",
        "outputId": "309a234d-7df9-436a-ad84-7f5b1b5569f5"
      },
      "execution_count": null,
      "outputs": [
        {
          "output_type": "stream",
          "name": "stdout",
          "text": [
            "+ - - - - +\n",
            "|         |\n",
            "|         |\n",
            "|         |\n",
            "|         |\n",
            "+ - - - - +\n",
            "+ - - - - +\n",
            "|         |\n",
            "|         |\n",
            "|         |\n",
            "|         |\n",
            "+ - - - - +\n"
          ]
        }
      ]
    },
    {
      "cell_type": "code",
      "metadata": {
        "id": "l2iFx4QSPc2q"
      },
      "source": [
        "+ - - - - +\n",
        "|         |\n",
        "|         |\n",
        "|         |\n",
        "|         |\n",
        "+ - - - - +"
      ],
      "execution_count": null,
      "outputs": []
    },
    {
      "cell_type": "markdown",
      "metadata": {
        "id": "N_AQs5c-eTIB"
      },
      "source": [
        "Hint: to print more than one value on a line, you can print a comma-separated sequence of\n",
        "values:"
      ]
    },
    {
      "cell_type": "code",
      "metadata": {
        "id": "U-3rwiGMeTIB",
        "outputId": "e1699d47-50f0-4956-d300-8932085a129b"
      },
      "source": [
        "print('+', '-')"
      ],
      "execution_count": null,
      "outputs": [
        {
          "name": "stdout",
          "output_type": "stream",
          "text": [
            "+ -\n"
          ]
        }
      ]
    },
    {
      "cell_type": "markdown",
      "metadata": {
        "id": "bE2vLBX7eTIB"
      },
      "source": [
        "By default, print advances to the next line, but you can override that behavior and put a\n",
        "space at the end, like this:"
      ]
    },
    {
      "cell_type": "code",
      "metadata": {
        "id": "vRR77yK5eTIC",
        "outputId": "56537fda-34e8-4537-8ccf-a90ad8857547",
        "colab": {
          "base_uri": "https://localhost:8080/"
        }
      },
      "source": [
        "print('+', end=' ')\n",
        "print('-')"
      ],
      "execution_count": null,
      "outputs": [
        {
          "output_type": "stream",
          "name": "stdout",
          "text": [
            "+ -\n"
          ]
        }
      ]
    },
    {
      "cell_type": "markdown",
      "metadata": {
        "id": "gZG8bQe6eTID"
      },
      "source": [
        "6. Write a function that draws a similar grid with four rows and four columns."
      ]
    },
    {
      "cell_type": "code",
      "metadata": {
        "id": "TRapkEhveTIE",
        "colab": {
          "base_uri": "https://localhost:8080/"
        },
        "outputId": "d3c7e038-c6fc-4ac0-c77f-29e1adde046a"
      },
      "source": [
        "def custom_grid(rows, columns):\n",
        "    for _ in range(rows):\n",
        "        # Print the top border for each row\n",
        "        print(\"+ - - - - \" * columns + \"+\")\n",
        "\n",
        "        # Print the vertical dividers for each row\n",
        "        for _ in range(4):  # Each row has 4 vertical spaces\n",
        "            print(\"|         \" * columns + \"|\")\n",
        "\n",
        "    # Print the bottom border to close the grid\n",
        "    print(\"+ - - - - \" * columns + \"+\")\n",
        "\n",
        "custom_grid(4,4)"
      ],
      "execution_count": null,
      "outputs": [
        {
          "output_type": "stream",
          "name": "stdout",
          "text": [
            "+ - - - - + - - - - + - - - - + - - - - +\n",
            "|         |         |         |         |\n",
            "|         |         |         |         |\n",
            "|         |         |         |         |\n",
            "|         |         |         |         |\n",
            "+ - - - - + - - - - + - - - - + - - - - +\n",
            "|         |         |         |         |\n",
            "|         |         |         |         |\n",
            "|         |         |         |         |\n",
            "|         |         |         |         |\n",
            "+ - - - - + - - - - + - - - - + - - - - +\n",
            "|         |         |         |         |\n",
            "|         |         |         |         |\n",
            "|         |         |         |         |\n",
            "|         |         |         |         |\n",
            "+ - - - - + - - - - + - - - - + - - - - +\n",
            "|         |         |         |         |\n",
            "|         |         |         |         |\n",
            "|         |         |         |         |\n",
            "|         |         |         |         |\n",
            "+ - - - - + - - - - + - - - - + - - - - +\n"
          ]
        }
      ]
    }
  ]
}