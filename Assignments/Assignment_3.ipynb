{
  "cells": [
    {
      "cell_type": "markdown",
      "metadata": {
        "id": "JCbRBxQufSeB"
      },
      "source": [
        "# CIS 2100 - Programming Foundation for Business Analytics\n",
        "# Dr. Marjan Orang\n",
        "# Assignment 3: Conditional Statements"
      ]
    },
    {
      "cell_type": "markdown",
      "metadata": {
        "id": "gsqncPfifSeO"
      },
      "source": [
        "1. Write a function that returns the maximum of 2 numbers."
      ]
    },
    {
      "cell_type": "code",
      "execution_count": 1,
      "metadata": {
        "colab": {
          "base_uri": "https://localhost:8080/"
        },
        "id": "rozB1LpLfSeS",
        "outputId": "07cdc400-b688-44ac-bb9f-f819f7fd18d5"
      },
      "outputs": [
        {
          "data": {
            "text/plain": [
              "5"
            ]
          },
          "execution_count": 1,
          "metadata": {},
          "output_type": "execute_result"
        }
      ],
      "source": [
        "def maximum(num1, num2):\n",
        "  if num1 > num2:\n",
        "    return num1\n",
        "  else:\n",
        "    return num2\n",
        "\n",
        "maximum(5, 2)"
      ]
    },
    {
      "cell_type": "markdown",
      "metadata": {
        "id": "sD02ZKp_fSeV"
      },
      "source": [
        "2. Write a function that returns absolute value of a number using conditional statements."
      ]
    },
    {
      "cell_type": "code",
      "execution_count": 2,
      "metadata": {
        "colab": {
          "base_uri": "https://localhost:8080/"
        },
        "id": "vwIhLIObfSeX",
        "outputId": "43beee1d-7dce-4a39-839d-5624f74529ca"
      },
      "outputs": [
        {
          "data": {
            "text/plain": [
              "5"
            ]
          },
          "execution_count": 2,
          "metadata": {},
          "output_type": "execute_result"
        }
      ],
      "source": [
        "def abs_value(number):\n",
        "  if number < 0:\n",
        "    number = number * -1\n",
        "    return number\n",
        "  else:\n",
        "    return number\n",
        "\n",
        "abs_value(-5)"
      ]
    },
    {
      "cell_type": "markdown",
      "metadata": {
        "id": "EAUvOtLDfSeY"
      },
      "source": [
        "3. Write a function that checks whether a number is even or odd."
      ]
    },
    {
      "cell_type": "code",
      "execution_count": 3,
      "metadata": {
        "colab": {
          "base_uri": "https://localhost:8080/"
        },
        "id": "1QRyXO3pfSeZ",
        "outputId": "c47f0b88-8677-4c9c-cdfe-11bbdb7d490c"
      },
      "outputs": [
        {
          "name": "stdout",
          "output_type": "stream",
          "text": [
            "number is even\n",
            "number is odd\n"
          ]
        }
      ],
      "source": [
        "def even_num_checker(number):\n",
        "  result = number % 2\n",
        "  if result == 0:\n",
        "    print(\"number is even\")\n",
        "  else:\n",
        "    print(\"number is odd\")\n",
        "\n",
        "even_num_checker(600)\n",
        "even_num_checker(601)"
      ]
    },
    {
      "cell_type": "markdown",
      "metadata": {
        "id": "FM5gtEavfSeZ"
      },
      "source": [
        "4. Write a program that calculates net pay based on gross pay and the following tax breaks:<br>\n",
        "<ul><li>salary &lt;&equals; &dollar;20,000 : 0% </li>\n",
        "<li> 20,000 &lt; salary &lt;&equals; &dollar;40,000: 10%\n",
        "<li>40,000 &lt; salary &lt;&equals; &dollar;80,000 : 15%\n",
        "    <li>salary &gt; &dollar;80,000: 20% </li></ul>\n",
        "Please not that for someone making &dollar;90,000, the first &dollar;20,000 is tax free, the next &dollar;20,000 falls in second tax break (10%) and so on."
      ]
    },
    {
      "cell_type": "code",
      "execution_count": 5,
      "metadata": {
        "colab": {
          "base_uri": "https://localhost:8080/"
        },
        "id": "qBsc5LH6fSeb",
        "outputId": "23a5aaa1-2d0d-4d32-fe89-75858224b54a"
      },
      "outputs": [
        {
          "name": "stdout",
          "output_type": "stream",
          "text": [
            "Enter your gross salary: 50000\n",
            "Net salary: $46500.00\n"
          ]
        }
      ],
      "source": [
        "def calculate_net_pay(gross_pay):\n",
        "    brackets = [(20000, 0.0), (20000, 0.1), (40000, 0.15), (float('inf'), 0.2)]\n",
        "    # bracket is formatted in (limit, rate)\n",
        "\n",
        "    tax = 0\n",
        "    remaining_income = gross_pay\n",
        "    prev_limit = 0\n",
        "\n",
        "    for limit, rate in brackets:\n",
        "        taxable_income = min(remaining_income, limit)\n",
        "        tax += taxable_income * rate\n",
        "        remaining_income -= taxable_income\n",
        "        if remaining_income <= 0:\n",
        "            break\n",
        "\n",
        "    net_pay = gross_pay - tax\n",
        "    return net_pay\n",
        "\n",
        "gross_salary = float(input(\"Enter your gross salary: \"))\n",
        "net_salary = calculate_net_pay(gross_salary)\n",
        "print(f\"Net salary: ${net_salary:.2f}\")\n"
      ]
    },
    {
      "cell_type": "markdown",
      "metadata": {
        "id": "LU6lRfOefSed"
      },
      "source": [
        "5. The time module provides a function, also named time, that returns the current\n",
        "Greenwich Mean Time in “the epoch”, which is an arbitrary time used as a reference point. On\n",
        "UNIX systems, the epoch is 1 January 1970."
      ]
    },
    {
      "cell_type": "code",
      "execution_count": 15,
      "metadata": {
        "colab": {
          "base_uri": "https://localhost:8080/"
        },
        "id": "90NTG5crfSee",
        "outputId": "c0663abd-ab02-43dc-a919-ff372358152e"
      },
      "outputs": [
        {
          "name": "stdout",
          "output_type": "stream",
          "text": [
            "Days since epoch: 20135\n",
            "Current time (Military): 22:49:14\n"
          ]
        }
      ],
      "source": [
        "import time\n",
        "total_seconds = time.time()\n",
        "total_seconds #total number of seconds since 1 January 1970"
      ]
    },
    {
      "cell_type": "markdown",
      "metadata": {
        "id": "aCS-M3SZfSeh"
      },
      "source": [
        "Write a script that reads the current time and converts it to a time of day in hours, minutes, and\n",
        "seconds, plus the number of days since the epoch."
      ]
    },
    {
      "cell_type": "code",
      "execution_count": 16,
      "metadata": {
        "colab": {
          "base_uri": "https://localhost:8080/"
        },
        "id": "eq3KR0syfSeh",
        "outputId": "1e92971d-c957-40a0-e79f-8a8649e0ab51"
      },
      "outputs": [
        {
          "name": "stdout",
          "output_type": "stream",
          "text": [
            "Days since epoch: 20135\n",
            "Current time (Military): 22:50:50\n"
          ]
        }
      ],
      "source": [
        "def convert_epoch_to_time():\n",
        "    total_seconds = time.time()\n",
        "    total_days = int(total_seconds // 86400)  # 86400 seconds in a day\n",
        "\n",
        "    current_seconds = int(total_seconds % 86400)\n",
        "    hours = current_seconds // 3600\n",
        "    minutes = (current_seconds % 3600) // 60\n",
        "    seconds = current_seconds % 60\n",
        "\n",
        "    print(f\"Days since epoch: {total_days}\")\n",
        "    print(f\"Current time (Military): {hours:02}:{minutes:02}:{seconds:02}\")\n",
        "\n",
        "# Run the function\n",
        "convert_epoch_to_time()"
      ]
    },
    {
      "cell_type": "markdown",
      "metadata": {
        "id": "8vl-rhYbfSej"
      },
      "source": [
        "6. Fermat’s Last Theorem says that there are no positive integers a, b, and c such that<center><br> a<sup>n</sup>+b<sup>n</sup>=c<sup>n</sup></center><br>for any values greater than 2.<br>\n",
        "Write a function named check_fermat that takes four parameters—a, b, c and n—and checks to see if Fermat’s theorem holds. If n is greater than 2 and a<sup>n</sup>+b<sup>n</sup>=c<sup>n</sup> the program should print, “Holy smokes, Fermat was wrong!” Otherwise the program should\n",
        "print, “No, that doesn’t work.”"
      ]
    },
    {
      "cell_type": "code",
      "execution_count": null,
      "metadata": {
        "colab": {
          "base_uri": "https://localhost:8080/"
        },
        "id": "5nAH_ryEfSej",
        "outputId": "0d36f732-376c-4972-daa9-105ddda2402a"
      },
      "outputs": [
        {
          "name": "stdout",
          "output_type": "stream",
          "text": [
            "No, that doesn't work.\n"
          ]
        }
      ],
      "source": [
        "# Look up why Fermat's Last Theorem is important\n",
        "\n",
        "def check_fermat(a, b, c, n):\n",
        "  left_side = (a ** n) + (b ** n)\n",
        "  right_side = c ** n\n",
        "\n",
        "  if a <= 2 or b <= 2 or c <= 2 or n <= 2:\n",
        "    print(\"Invalid, all inputs must be greater than 2\")\n",
        "  elif (n > 2) and (left_side == right_side):\n",
        "    print(\"Holy smokes, Fermat was wrong!\")\n",
        "  else:\n",
        "    print(\"No, that doesn't work.\")\n",
        "\n",
        "check_fermat(3, 3, 3, 3)"
      ]
    },
    {
      "cell_type": "markdown",
      "metadata": {
        "id": "oJwOk5k0fSej"
      },
      "source": [
        "7. If you are given three sticks, you may or may not be able to arrange them in a triangle.\n",
        "For example, if one of the sticks is 12 inches long and the other two are one inch long, you will not\n",
        "be able to get the short sticks to meet in the middle. For any three lengths, there is a simple test to\n",
        "see if it is possible to form a triangle:<br>\n",
        "If any of the three lengths is greater than the sum of the other two, then you cannot\n",
        "form a triangle. Otherwise, you can. (If the sum of two lengths equals the third, they\n",
        "form what is called a “degenerate” triangle.)<br>\n",
        "Write a function named is_triangle that takes three integers as arguments, and that prints\n",
        "either “Yes” or “No”, depending on whether you can or cannot form a triangle from sticks\n",
        "with the given lengths."
      ]
    },
    {
      "cell_type": "code",
      "execution_count": 17,
      "metadata": {
        "colab": {
          "base_uri": "https://localhost:8080/"
        },
        "id": "399Ku4cNfSel",
        "outputId": "869d762e-b578-4b29-bdc0-801b1c24f792"
      },
      "outputs": [
        {
          "name": "stdout",
          "output_type": "stream",
          "text": [
            "Yes\n"
          ]
        }
      ],
      "source": [
        "def is_triangle(a, b, c):\n",
        "    if a <= 0 or b <= 0 or c <= 0:\n",
        "        print(\"Invalid, all inputs must be greater than 0\")\n",
        "    elif (a + b) <= c or (a + c) <= b or (b + c) <= a:\n",
        "        print(\"No\")\n",
        "    else:\n",
        "        print(\"Yes\")\n",
        "\n",
        "is_triangle(3, 3, 3)"
      ]
    },
    {
      "cell_type": "markdown",
      "metadata": {
        "id": "jashdsnJfSel"
      },
      "source": [
        "8. Write a function that accepts a month number and returns the number of days in that month."
      ]
    },
    {
      "cell_type": "code",
      "execution_count": null,
      "metadata": {
        "colab": {
          "base_uri": "https://localhost:8080/"
        },
        "id": "z55YzoJ_fSem",
        "outputId": "04396dbe-28d6-4d83-a119-59abcdc782a8"
      },
      "outputs": [
        {
          "data": {
            "text/plain": [
              "28"
            ]
          },
          "execution_count": 19,
          "metadata": {},
          "output_type": "execute_result"
        }
      ],
      "source": [
        "def days_in_month(month):\n",
        "    month_tuple = [(1, 31), (2, 28), (3, 31),\n",
        "                   (4, 30), (5, 31), (6, 30),\n",
        "                   (7, 31), (8, 31), (9, 30),\n",
        "                   (10, 31), (11, 30), (12, 31)]\n",
        "    for i in range(len(month_tuple)):\n",
        "        if month == month_tuple[i][0]:\n",
        "            return month_tuple[i][1]\n",
        "\n",
        "# Test for February\n",
        "days_in_month(2)"
      ]
    }
  ],
  "metadata": {
    "colab": {
      "provenance": []
    },
    "kernelspec": {
      "display_name": "Python 3",
      "language": "python",
      "name": "python3"
    },
    "language_info": {
      "codemirror_mode": {
        "name": "ipython",
        "version": 3
      },
      "file_extension": ".py",
      "mimetype": "text/x-python",
      "name": "python",
      "nbconvert_exporter": "python",
      "pygments_lexer": "ipython3",
      "version": "3.6.5"
    }
  },
  "nbformat": 4,
  "nbformat_minor": 0
}
