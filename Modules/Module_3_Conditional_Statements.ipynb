{
  "nbformat": 4,
  "nbformat_minor": 0,
  "metadata": {
    "kernelspec": {
      "display_name": "Python 3",
      "language": "python",
      "name": "python3"
    },
    "language_info": {
      "codemirror_mode": {
        "name": "ipython",
        "version": 3
      },
      "file_extension": ".py",
      "mimetype": "text/x-python",
      "name": "python",
      "nbconvert_exporter": "python",
      "pygments_lexer": "ipython3",
      "version": "3.6.5"
    },
    "colab": {
      "name": "Module 3 - Conditional Statements.ipynb",
      "provenance": []
    }
  },
  "cells": [
    {
      "cell_type": "markdown",
      "metadata": {
        "id": "zXBF9dtI1dVv"
      },
      "source": [
        "# CIS 2100 - Programming Foundation for Business Analytics\n",
        "# Dr. Marjan Orang\n",
        "# Module 3: Conditional Statements"
      ]
    },
    {
      "cell_type": "markdown",
      "metadata": {
        "id": "tTMtUCfR1dV5"
      },
      "source": [
        "Statements in a program run from top to bottom by default. Using control statements, you can run different statements based on a condition."
      ]
    },
    {
      "cell_type": "markdown",
      "metadata": {
        "id": "IsWP2pId1dV6"
      },
      "source": [
        "# Boolean Expressions\n",
        "A boolean expression is one whose results is either true or false. You can use == sign to compare two values and determine if they are equal or not. Note than single = sign is used for assignment and double == sign is used for comparison."
      ]
    },
    {
      "cell_type": "code",
      "metadata": {
        "id": "Nc40m09J1dWA"
      },
      "source": [
        "5==5"
      ],
      "execution_count": null,
      "outputs": []
    },
    {
      "cell_type": "code",
      "metadata": {
        "id": "00iGNVWd1dWE"
      },
      "source": [
        "5==6"
      ],
      "execution_count": null,
      "outputs": []
    },
    {
      "cell_type": "code",
      "metadata": {
        "id": "iOUFp_CA1dWF"
      },
      "source": [
        "type(True)"
      ],
      "execution_count": null,
      "outputs": []
    },
    {
      "cell_type": "code",
      "metadata": {
        "id": "NkJn79-51dWG"
      },
      "source": [
        "type(False)"
      ],
      "execution_count": null,
      "outputs": []
    },
    {
      "cell_type": "code",
      "metadata": {
        "id": "n6cu40YE1dWH"
      },
      "source": [
        "type(5==6)"
      ],
      "execution_count": null,
      "outputs": []
    },
    {
      "cell_type": "code",
      "metadata": {
        "id": "uNiVHoUk1dWI"
      },
      "source": [
        "#now lets use the following variables for some boolean expressions\n",
        "a=1\n",
        "b=2"
      ],
      "execution_count": null,
      "outputs": []
    },
    {
      "cell_type": "code",
      "metadata": {
        "id": "WuVLZZJg1dWJ"
      },
      "source": [
        "a == b"
      ],
      "execution_count": null,
      "outputs": []
    },
    {
      "cell_type": "code",
      "metadata": {
        "id": "TTB1sDic1dWK"
      },
      "source": [
        "#not equal to\n",
        "a != b"
      ],
      "execution_count": null,
      "outputs": []
    },
    {
      "cell_type": "code",
      "metadata": {
        "id": "u35g4MVB1dWL"
      },
      "source": [
        "a>b"
      ],
      "execution_count": null,
      "outputs": []
    },
    {
      "cell_type": "code",
      "metadata": {
        "id": "WkEuDA9Y1dWL"
      },
      "source": [
        "#greater than or equal to\n",
        "a>=b"
      ],
      "execution_count": null,
      "outputs": []
    },
    {
      "cell_type": "code",
      "metadata": {
        "id": "_VWUkagA1dWN"
      },
      "source": [
        "a<b"
      ],
      "execution_count": null,
      "outputs": []
    },
    {
      "cell_type": "code",
      "metadata": {
        "id": "uooy1bCH1dWP"
      },
      "source": [
        "#less than or equal to\n",
        "a<=b"
      ],
      "execution_count": null,
      "outputs": []
    },
    {
      "cell_type": "markdown",
      "metadata": {
        "id": "jhM2RuJO1dWS"
      },
      "source": [
        "# Logical Operators\n",
        "There are 3 logical operators: and, or, not."
      ]
    },
    {
      "cell_type": "code",
      "metadata": {
        "id": "_DI_n2xS1dWT"
      },
      "source": [
        "#start with setting n to 10\n",
        "n = 10"
      ],
      "execution_count": null,
      "outputs": []
    },
    {
      "cell_type": "code",
      "metadata": {
        "id": "9Zfswrwd1dWV"
      },
      "source": [
        "#is n divisble by either 3 or 2?\n",
        "#the result of or is true if at least one the conditions is true.\n",
        "n%2==0 or n%3==0"
      ],
      "execution_count": null,
      "outputs": []
    },
    {
      "cell_type": "code",
      "metadata": {
        "id": "J9J9QpUo1dWV"
      },
      "source": [
        "#is n divisble by both 3 and 2?\n",
        "#the result of and is true if both of the conditions are true.\n",
        "n%2==0 and n%3==0"
      ],
      "execution_count": null,
      "outputs": []
    },
    {
      "cell_type": "markdown",
      "metadata": {
        "id": "j8d_G4fB1dWW"
      },
      "source": [
        "not negates a boolean expression"
      ]
    },
    {
      "cell_type": "code",
      "metadata": {
        "id": "XOzrnpp_1dWW"
      },
      "source": [
        "n>10"
      ],
      "execution_count": null,
      "outputs": []
    },
    {
      "cell_type": "code",
      "metadata": {
        "id": "7rn8uFlZ1dWX"
      },
      "source": [
        "not (n>10)"
      ],
      "execution_count": null,
      "outputs": []
    },
    {
      "cell_type": "markdown",
      "metadata": {
        "id": "MDANYGms1dWX"
      },
      "source": [
        "# Conditional Execution\n",
        "An \"if\" statement, allows you to create branches in your code. The condition is evaluated and if it is true, the statement below the if statement is executed. The statement below if should be indented using one TAB character."
      ]
    },
    {
      "cell_type": "code",
      "metadata": {
        "id": "lggVgPxZ1dWY"
      },
      "source": [
        "n = 8\n",
        "if n > 9:\n",
        "    print('n is larger than 9')"
      ],
      "execution_count": null,
      "outputs": []
    },
    {
      "cell_type": "markdown",
      "metadata": {
        "id": "vrFcQFwP1dWY"
      },
      "source": [
        "An \"else\" statement would run if the condition for the corrosponding \"if\" statement is false."
      ]
    },
    {
      "cell_type": "code",
      "metadata": {
        "id": "Nr-1yri41dWZ"
      },
      "source": [
        "if n % 2 == 0:\n",
        "    print('n is even')\n",
        "else:\n",
        "    print('n is odd')"
      ],
      "execution_count": null,
      "outputs": []
    },
    {
      "cell_type": "code",
      "metadata": {
        "id": "OUn8y6NZ1dWZ"
      },
      "source": [
        "x = 11\n",
        "y = 12\n",
        "if x<y:\n",
        "    print('x is less than y')\n",
        "elif x > y:\n",
        "    print('x is greater than y')\n",
        "else:\n",
        "    print('x and y are equal')"
      ],
      "execution_count": null,
      "outputs": []
    },
    {
      "cell_type": "markdown",
      "metadata": {
        "id": "sNRbNqpS1dWa"
      },
      "source": [
        "# Class Exercise\n",
        "Write a program than prints grade letter based on score<br>\n",
        "[90, 100]: A<br>\n",
        "[80, 90): B<br>\n",
        "[70, 80): C<br>\n",
        "[60, 70): D<br>\n",
        "<60: F"
      ]
    },
    {
      "cell_type": "code",
      "metadata": {
        "id": "1NGjQ0z81dWa"
      },
      "source": [
        "grade = 66\n",
        "#TODO: write program that calculates letter grade for any value of grade\n"
      ],
      "execution_count": null,
      "outputs": []
    },
    {
      "cell_type": "markdown",
      "metadata": {
        "id": "ZN-8oGH41dWb"
      },
      "source": [
        "# Nested Conditionals"
      ]
    },
    {
      "cell_type": "code",
      "metadata": {
        "id": "Bt8ezEB_1dWb"
      },
      "source": [
        "#customer type can be a or b\n",
        "customer_type = 'a'\n",
        "sub_total = 100\n",
        "if customer_type == 'a':\n",
        "    discount = 0.2\n",
        "else:\n",
        "    if sub_total <= 100:\n",
        "        discount = 0.1\n",
        "    else:\n",
        "        discount = 0.15\n",
        "price_after_discount = sub_total - sub_total * discount\n",
        "print('price after discount = ', price_after_discount)"
      ],
      "execution_count": null,
      "outputs": []
    },
    {
      "cell_type": "code",
      "metadata": {
        "id": "WEmTlGxZ1dWb"
      },
      "source": [
        "x = 5\n",
        "if x > 0:\n",
        "    if x < 10:\n",
        "        print('x is a positive single-digit number.')"
      ],
      "execution_count": null,
      "outputs": []
    },
    {
      "cell_type": "markdown",
      "metadata": {
        "id": "vRL4-5KB1dWc"
      },
      "source": [
        "# Class exercise\n",
        "Write the above code using only one if statement."
      ]
    },
    {
      "cell_type": "code",
      "metadata": {
        "id": "A3lqV6OT1dWc"
      },
      "source": [
        ""
      ],
      "execution_count": null,
      "outputs": []
    },
    {
      "cell_type": "markdown",
      "metadata": {
        "id": "mJ6jDFez1dWd"
      },
      "source": [
        "# Code Blocks\n",
        "In Python, we create code blocks using indentation. You can use TAB or 4 spaces to create a block. Code blocks would run together. For example, you can have a block of multiple statements that corrospond to an \"if\" statement."
      ]
    },
    {
      "cell_type": "code",
      "metadata": {
        "id": "Z_rNOm961dWd"
      },
      "source": [
        "sub_total =100\n",
        "if sub_total <= 100:\n",
        "        discount = 0.1\n",
        "        discount_amount = sub_total * 0.1\n",
        "else:\n",
        "        discount = 0.15\n",
        "        discount_amount = sub_total * 0.15\n",
        "print(discount, discount_amount)"
      ],
      "execution_count": null,
      "outputs": []
    },
    {
      "cell_type": "markdown",
      "metadata": {
        "id": "n1jL4vLO1dWe"
      },
      "source": [
        "# Class Exercise - cashback\n",
        "Write a function that calculates cashback and discount for different payment processrs. Below is how much cahsback is paid for each type of card:<br>\n",
        "<ul><li>AMEX: 1%\n",
        "    <li>Visa: 2%\n",
        "        <Li> Master Card: 1.5% </ul>\n",
        "        Additionally, AMEX customers will receive a 10% discount <u>before</u> cashback calculations. Your function accepts card_type and sub_total as input and prints discount and cashback as output."
      ]
    },
    {
      "cell_type": "code",
      "metadata": {
        "id": "W1gqwpnU1dWe"
      },
      "source": [
        ""
      ],
      "execution_count": null,
      "outputs": []
    }
  ]
}